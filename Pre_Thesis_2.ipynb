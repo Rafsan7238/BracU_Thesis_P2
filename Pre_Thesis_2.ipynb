{
  "nbformat": 4,
  "nbformat_minor": 0,
  "metadata": {
    "colab": {
      "name": "Pre_Thesis_2.ipynb",
      "provenance": [],
      "collapsed_sections": [],
      "include_colab_link": true
    },
    "kernelspec": {
      "name": "python3",
      "display_name": "Python 3"
    },
    "language_info": {
      "name": "python"
    }
  },
  "cells": [
    {
      "cell_type": "markdown",
      "metadata": {
        "id": "view-in-github",
        "colab_type": "text"
      },
      "source": [
        "<a href=\"https://colab.research.google.com/github/Rafsan7238/BracU_Thesis_P2/blob/main/Pre_Thesis_2.ipynb\" target=\"_parent\"><img src=\"https://colab.research.google.com/assets/colab-badge.svg\" alt=\"Open In Colab\"/></a>"
      ]
    },
    {
      "cell_type": "markdown",
      "metadata": {
        "id": "xc49ldt6UMe6"
      },
      "source": [
        "# **Application of Deep Convolutional Neural Network in Breast Cancer Prediction Using Digital Mammograms**"
      ]
    },
    {
      "cell_type": "markdown",
      "metadata": {
        "id": "bPj7Y4vyVhuE"
      },
      "source": [
        "**Authors:** Rafsan Al Mamun, Md. Al Imran Sefat, Gazi Abu Rafin, Adnan"
      ]
    },
    {
      "cell_type": "markdown",
      "metadata": {
        "id": "kwPOa4QRV1Ue"
      },
      "source": [
        "**Project GitHub Link:** [https://github.com/Rafsan7238/BracU_Thesis_P2](https://github.com/Rafsan7238/BracU_Thesis_P2)"
      ]
    },
    {
      "cell_type": "markdown",
      "metadata": {
        "id": "m1p7aSM3WY4T"
      },
      "source": [
        "\n",
        "\n",
        "---\n",
        "\n"
      ]
    },
    {
      "cell_type": "markdown",
      "metadata": {
        "id": "IYbfjbsTWouU"
      },
      "source": [
        "***Abstract:*** *Cancer, a diagnosis that is so dreaded and scary, that its fear alone can strike even the\n",
        "strongest of souls. The disease is often thought of as untreatable and unbearably painful, with\n",
        "usually, no cure available. Among all the cancers, breast cancer is the second most deadliest ,\n",
        "especially among women. What decides the patients’ fate is the early diagnosis of the cancer,\n",
        "facilitating subsequent clinical management. Mammography plays a vital role in the\n",
        "screening of breast cancers as it can detect any breast masses or calcifications early. However,\n",
        "the extremely dense breast tissues pose difficulty in the detection of cancer mass, thus,\n",
        "encouraging the use of machine learning (ML) techniques and artificial neural networks\n",
        "(ANN) to assist radiologists in faster cancer diagnosis. This paper explores the MIAS\n",
        "database, containing 332 digital mammograms from women, which were augmented and\n",
        "preprocessed, and fed into different convolutional neural network (CNN) models, with the\n",
        "aim of differentiating healthy tissues from cancerous ones with high accuracy. The paper,\n",
        "along with a new proposed CNN model for better identification of breast cancer, focuses on\n",
        "the significance of computer-aided detection (CAD) models overall in the early diagnosis of\n",
        "breast cancer. While a diagnosis of breast cancer may still leave patients dreaded, we believe\n",
        "our research can be a symbol of hope for all.*"
      ]
    },
    {
      "cell_type": "code",
      "metadata": {
        "id": "LRB6_i2ENs0r",
        "colab": {
          "base_uri": "https://localhost:8080/"
        },
        "outputId": "60f6191f-ef8d-4136-ea08-bf26a3f988e9"
      },
      "source": [
        "from google.colab import drive\n",
        "drive.mount('/content/drive')"
      ],
      "execution_count": null,
      "outputs": [
        {
          "output_type": "stream",
          "text": [
            "Drive already mounted at /content/drive; to attempt to forcibly remount, call drive.mount(\"/content/drive\", force_remount=True).\n"
          ],
          "name": "stdout"
        }
      ]
    },
    {
      "cell_type": "markdown",
      "metadata": {
        "id": "N3W44go5Y7w6"
      },
      "source": [
        "## **Data Collection and Preprocessing**"
      ]
    },
    {
      "cell_type": "markdown",
      "metadata": {
        "id": "PmT4O7uLZFCQ"
      },
      "source": [
        "The dataset used for this project has been collected from the MIAS dataset. The dataset consisted of raw breast mammograms of 161 patients having healthy, malignant or benign breast tissues. \n",
        "\n",
        "These raw mammograms have been divided into 2 groups: healthy and cancer, having mammograms of patients with healthy and benign tissues, and malignant tissues respectively. \n",
        "\n",
        "However, the dataset is too small to be used in CNNs. Hence, they had to be augmented using the following processes in order to increase the no. of mammograms to be worked with. "
      ]
    },
    {
      "cell_type": "code",
      "metadata": {
        "id": "pD4wisbBasKb"
      },
      "source": [
        "import cv2\n",
        "from google.colab.patches import cv2_imshow\n",
        "import os\n",
        "\n",
        "def load_data():\n",
        "  \"\"\"\n",
        "    Load image data from directory '/content/drive/MyDrive/Thesis/Dataset'.\n",
        "\n",
        "    Load each image file from the subdirectories of Dataset, turn it into B/W and augment it. \n",
        "    After each augmentation append the images into the images list, and their corresponding\n",
        "    labels in the labels list. \n",
        "\n",
        "    Return tuple `(images, labels)`. `images` should be a list of all\n",
        "    of the images in the data directory, where each image is formatted as a\n",
        "    numpy ndarray with dimensions 1024 x 1024 x 1. `labels` should\n",
        "    be a list of labels (healthy or cancer), representing the categories for each of the\n",
        "    corresponding `images`.\n",
        "    \"\"\"\n",
        "\n",
        "  images = []\n",
        "  labels = []\n",
        "\n",
        "  # Loop through the healthy dataset\n",
        "  directory_path = \"/content/drive/MyDrive/Thesis/Dataset/Healthy\"\n",
        "  os.chdir(directory_path)\n",
        "  count = 0\n",
        "\n",
        "  for file in os.listdir():\n",
        "    if file.endswith(\".jpg\"):\n",
        "      # count = count + 1 \n",
        "      # if(count == 5):\n",
        "      #   break\n",
        "\n",
        "      # print(f\"Working with file: {file}\")\n",
        "\n",
        "      file_path = os.path.join(directory_path, file)\n",
        "      img = cv2.imread(file_path)\n",
        "      \n",
        "      #TODO\n",
        "\n",
        "      # 1. Resize to 224*224      \n",
        "      resized = cv2.resize(img, (224,224), interpolation = cv2.INTER_AREA)\n",
        "      # print('Original Shape : ' , img.shape)\n",
        "      # print('Resized Shape : ' , resized.shape)\n",
        "\n",
        "      # 2. Turn B/W\n",
        "      image_bw = cv2.cvtColor(img, cv2.COLOR_BGR2GRAY)\n",
        "      \n",
        "      # 3. CLAHE\n",
        "      # The declaration of CLAHE \n",
        "      # clipLimit -> Threshold for contrast limiting\n",
        "      clahe = cv2.createCLAHE(clipLimit = 5)\n",
        "      final_img = clahe.apply(image_bw) + 30  \n",
        "\n",
        "      cv2.imshow(\"Original Image\", img)\n",
        "      cv2.imshow(\"B/w Image\", img)\n",
        "      cv2.imshow(\"Clahe Image\", img)\n",
        "      print(img, image_bw, final_img)\n",
        "\n",
        "\n",
        "      images.append(final_img)\n",
        "      labels.append(\"healthy\")\n",
        "\n",
        "      # augmentation and append\n",
        "      #rotate 10 and append\n",
        "      #rotate 20 append\n",
        "      #other rotates, shear, flip, contrast, brightness, noise etc\n",
        "      \n",
        "\n",
        "\n",
        "  # Same for cancer dataset\n",
        "\n",
        "\n",
        "  # Return a tuple of (images, labels)\n",
        "\n",
        "  return (images, labels)\n",
        "\n",
        "\n",
        "# main_method to check function\n",
        "image, label = load_data()\n",
        "# cv2_imshow(image[0])\n",
        "# print(label[0])"
      ],
      "execution_count": null,
      "outputs": []
    }
  ]
}